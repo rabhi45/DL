{
 "cells": [
  {
   "cell_type": "code",
   "execution_count": 5,
   "id": "1b869062",
   "metadata": {},
   "outputs": [],
   "source": [
    "import numpy as np\n",
    "\n",
    "import pandas as pd\n",
    "\n",
    "import tensorflow as tf\n",
    "\n",
    "import matplotlib.pyplot as plt\n",
    "\n",
    "from sklearn.metrics import accuracy_score\n",
    "\n",
    "from tensorflow.keras.optimizers import Adam\n",
    "\n",
    "from sklearn.preprocessing import MinMaxScaler\n",
    "\n",
    "from tensorflow.keras import Model, Sequential\n",
    "\n",
    "from tensorflow.keras. layers import Dense, Dropout\n",
    "\n",
    "from sklearn.model_selection import train_test_split\n",
    "\n",
    "from tensorflow.keras.losses import MeanSquaredLogarithmicError"
   ]
  },
  {
   "cell_type": "code",
   "execution_count": 7,
   "id": "fe3644a8",
   "metadata": {},
   "outputs": [
    {
     "data": {
      "text/html": [
       "<div>\n",
       "<style scoped>\n",
       "    .dataframe tbody tr th:only-of-type {\n",
       "        vertical-align: middle;\n",
       "    }\n",
       "\n",
       "    .dataframe tbody tr th {\n",
       "        vertical-align: top;\n",
       "    }\n",
       "\n",
       "    .dataframe thead th {\n",
       "        text-align: right;\n",
       "    }\n",
       "</style>\n",
       "<table border=\"1\" class=\"dataframe\">\n",
       "  <thead>\n",
       "    <tr style=\"text-align: right;\">\n",
       "      <th></th>\n",
       "      <th>0</th>\n",
       "      <th>1</th>\n",
       "      <th>2</th>\n",
       "      <th>3</th>\n",
       "      <th>4</th>\n",
       "      <th>5</th>\n",
       "      <th>6</th>\n",
       "      <th>7</th>\n",
       "      <th>8</th>\n",
       "      <th>9</th>\n",
       "      <th>...</th>\n",
       "      <th>131</th>\n",
       "      <th>132</th>\n",
       "      <th>133</th>\n",
       "      <th>134</th>\n",
       "      <th>135</th>\n",
       "      <th>136</th>\n",
       "      <th>137</th>\n",
       "      <th>138</th>\n",
       "      <th>139</th>\n",
       "      <th>140</th>\n",
       "    </tr>\n",
       "  </thead>\n",
       "  <tbody>\n",
       "    <tr>\n",
       "      <th>0</th>\n",
       "      <td>-0.112522</td>\n",
       "      <td>-2.827204</td>\n",
       "      <td>-3.773897</td>\n",
       "      <td>-4.349751</td>\n",
       "      <td>-4.376041</td>\n",
       "      <td>-3.474986</td>\n",
       "      <td>-2.181408</td>\n",
       "      <td>-1.818286</td>\n",
       "      <td>-1.250522</td>\n",
       "      <td>-0.477492</td>\n",
       "      <td>...</td>\n",
       "      <td>0.792168</td>\n",
       "      <td>0.933541</td>\n",
       "      <td>0.796958</td>\n",
       "      <td>0.578621</td>\n",
       "      <td>0.257740</td>\n",
       "      <td>0.228077</td>\n",
       "      <td>0.123431</td>\n",
       "      <td>0.925286</td>\n",
       "      <td>0.193137</td>\n",
       "      <td>1.0</td>\n",
       "    </tr>\n",
       "    <tr>\n",
       "      <th>1</th>\n",
       "      <td>-1.100878</td>\n",
       "      <td>-3.996840</td>\n",
       "      <td>-4.285843</td>\n",
       "      <td>-4.506579</td>\n",
       "      <td>-4.022377</td>\n",
       "      <td>-3.234368</td>\n",
       "      <td>-1.566126</td>\n",
       "      <td>-0.992258</td>\n",
       "      <td>-0.754680</td>\n",
       "      <td>0.042321</td>\n",
       "      <td>...</td>\n",
       "      <td>0.538356</td>\n",
       "      <td>0.656881</td>\n",
       "      <td>0.787490</td>\n",
       "      <td>0.724046</td>\n",
       "      <td>0.555784</td>\n",
       "      <td>0.476333</td>\n",
       "      <td>0.773820</td>\n",
       "      <td>1.119621</td>\n",
       "      <td>-1.436250</td>\n",
       "      <td>1.0</td>\n",
       "    </tr>\n",
       "    <tr>\n",
       "      <th>2</th>\n",
       "      <td>-0.567088</td>\n",
       "      <td>-2.593450</td>\n",
       "      <td>-3.874230</td>\n",
       "      <td>-4.584095</td>\n",
       "      <td>-4.187449</td>\n",
       "      <td>-3.151462</td>\n",
       "      <td>-1.742940</td>\n",
       "      <td>-1.490659</td>\n",
       "      <td>-1.183580</td>\n",
       "      <td>-0.394229</td>\n",
       "      <td>...</td>\n",
       "      <td>0.886073</td>\n",
       "      <td>0.531452</td>\n",
       "      <td>0.311377</td>\n",
       "      <td>-0.021919</td>\n",
       "      <td>-0.713683</td>\n",
       "      <td>-0.532197</td>\n",
       "      <td>0.321097</td>\n",
       "      <td>0.904227</td>\n",
       "      <td>-0.421797</td>\n",
       "      <td>1.0</td>\n",
       "    </tr>\n",
       "    <tr>\n",
       "      <th>3</th>\n",
       "      <td>0.490473</td>\n",
       "      <td>-1.914407</td>\n",
       "      <td>-3.616364</td>\n",
       "      <td>-4.318823</td>\n",
       "      <td>-4.268016</td>\n",
       "      <td>-3.881110</td>\n",
       "      <td>-2.993280</td>\n",
       "      <td>-1.671131</td>\n",
       "      <td>-1.333884</td>\n",
       "      <td>-0.965629</td>\n",
       "      <td>...</td>\n",
       "      <td>0.350816</td>\n",
       "      <td>0.499111</td>\n",
       "      <td>0.600345</td>\n",
       "      <td>0.842069</td>\n",
       "      <td>0.952074</td>\n",
       "      <td>0.990133</td>\n",
       "      <td>1.086798</td>\n",
       "      <td>1.403011</td>\n",
       "      <td>-0.383564</td>\n",
       "      <td>1.0</td>\n",
       "    </tr>\n",
       "    <tr>\n",
       "      <th>4</th>\n",
       "      <td>0.800232</td>\n",
       "      <td>-0.874252</td>\n",
       "      <td>-2.384761</td>\n",
       "      <td>-3.973292</td>\n",
       "      <td>-4.338224</td>\n",
       "      <td>-3.802422</td>\n",
       "      <td>-2.534510</td>\n",
       "      <td>-1.783423</td>\n",
       "      <td>-1.594450</td>\n",
       "      <td>-0.753199</td>\n",
       "      <td>...</td>\n",
       "      <td>1.148884</td>\n",
       "      <td>0.958434</td>\n",
       "      <td>1.059025</td>\n",
       "      <td>1.371682</td>\n",
       "      <td>1.277392</td>\n",
       "      <td>0.960304</td>\n",
       "      <td>0.971020</td>\n",
       "      <td>1.614392</td>\n",
       "      <td>1.421456</td>\n",
       "      <td>1.0</td>\n",
       "    </tr>\n",
       "  </tbody>\n",
       "</table>\n",
       "<p>5 rows × 141 columns</p>\n",
       "</div>"
      ],
      "text/plain": [
       "        0         1         2         3         4         5         6    \\\n",
       "0 -0.112522 -2.827204 -3.773897 -4.349751 -4.376041 -3.474986 -2.181408   \n",
       "1 -1.100878 -3.996840 -4.285843 -4.506579 -4.022377 -3.234368 -1.566126   \n",
       "2 -0.567088 -2.593450 -3.874230 -4.584095 -4.187449 -3.151462 -1.742940   \n",
       "3  0.490473 -1.914407 -3.616364 -4.318823 -4.268016 -3.881110 -2.993280   \n",
       "4  0.800232 -0.874252 -2.384761 -3.973292 -4.338224 -3.802422 -2.534510   \n",
       "\n",
       "        7         8         9    ...       131       132       133       134  \\\n",
       "0 -1.818286 -1.250522 -0.477492  ...  0.792168  0.933541  0.796958  0.578621   \n",
       "1 -0.992258 -0.754680  0.042321  ...  0.538356  0.656881  0.787490  0.724046   \n",
       "2 -1.490659 -1.183580 -0.394229  ...  0.886073  0.531452  0.311377 -0.021919   \n",
       "3 -1.671131 -1.333884 -0.965629  ...  0.350816  0.499111  0.600345  0.842069   \n",
       "4 -1.783423 -1.594450 -0.753199  ...  1.148884  0.958434  1.059025  1.371682   \n",
       "\n",
       "        135       136       137       138       139  140  \n",
       "0  0.257740  0.228077  0.123431  0.925286  0.193137  1.0  \n",
       "1  0.555784  0.476333  0.773820  1.119621 -1.436250  1.0  \n",
       "2 -0.713683 -0.532197  0.321097  0.904227 -0.421797  1.0  \n",
       "3  0.952074  0.990133  1.086798  1.403011 -0.383564  1.0  \n",
       "4  1.277392  0.960304  0.971020  1.614392  1.421456  1.0  \n",
       "\n",
       "[5 rows x 141 columns]"
      ]
     },
     "execution_count": 7,
     "metadata": {},
     "output_type": "execute_result"
    }
   ],
   "source": [
    "data = pd.read_csv(\"ecg.csv\", header=None)\n",
    "data.head()"
   ]
  },
  {
   "cell_type": "code",
   "execution_count": 9,
   "id": "25936757",
   "metadata": {},
   "outputs": [
    {
     "data": {
      "text/plain": [
       "(4998, 141)"
      ]
     },
     "execution_count": 9,
     "metadata": {},
     "output_type": "execute_result"
    }
   ],
   "source": [
    "data.shape"
   ]
  },
  {
   "cell_type": "code",
   "execution_count": 10,
   "id": "f97fc1fc",
   "metadata": {},
   "outputs": [],
   "source": [
    "TARGET = 140"
   ]
  },
  {
   "cell_type": "code",
   "execution_count": 11,
   "id": "527a3554",
   "metadata": {},
   "outputs": [],
   "source": [
    "features = data.drop(TARGET, axis=1)\n",
    "\n",
    "target = data[TARGET]\n",
    "\n",
    "x_train, x_test, y_train, y_test = train_test_split( features, target, test_size=0.2, stratify=target)"
   ]
  },
  {
   "cell_type": "code",
   "execution_count": 14,
   "id": "abe62cd3",
   "metadata": {},
   "outputs": [],
   "source": [
    "train_index = y_train [y_train == 1].index \n",
    "train_data = x_train. loc[train_index]\n"
   ]
  },
  {
   "cell_type": "code",
   "execution_count": 15,
   "id": "3353e0c7",
   "metadata": {},
   "outputs": [],
   "source": [
    "# min max scale the input data\n",
    "\n",
    "min_max_scaler = MinMaxScaler (feature_range=(0, 1))\n",
    "\n",
    "x_train_scaled = min_max_scaler.fit_transform(train_data.copy())\n",
    "\n",
    "x_test_scaled = min_max_scaler.transform(x_test.copy())"
   ]
  },
  {
   "cell_type": "code",
   "execution_count": 81,
   "id": "b7bef796",
   "metadata": {},
   "outputs": [],
   "source": [
    "class AutoEncoder (Model):\n",
    "\n",
    "    def __init__(self, output_units, code_size=8): \n",
    "        super().__init__()\n",
    "        self.encoder = Sequential([\n",
    "            Dense (64, activation='relu'),\n",
    "            Dropout (0.1),\n",
    "            Dense (32, activation='relu'),\n",
    "            Dropout (0.1),\n",
    "            Dense (16, activation='relu'),\n",
    "            Dropout (0.1),\n",
    "            Dense(code_size, activation='relu')\n",
    "        ])\n",
    "        self.decoder = Sequential( [\n",
    "            Dense (16, activation='relu'),\n",
    "            Dropout (0.1),\n",
    "            Dense (32, activation='relu'),\n",
    "            Dropout (0.1),\n",
    "            Dense (64, activation='relu'),\n",
    "            Dropout (0.1),\n",
    "            Dense(output_units, activation='sigmoid')\n",
    "        ])\n",
    "    def call(self, inputs):\n",
    "        encoded = self.encoder(inputs)\n",
    "        decoded = self.decoder(encoded)\n",
    "        return decoded\n",
    "    \n",
    "output_units=x_train_scaled.shape[1]    \n",
    "model = AutoEncoder(output_units)"
   ]
  },
  {
   "cell_type": "code",
   "execution_count": 82,
   "id": "80a347b8",
   "metadata": {},
   "outputs": [],
   "source": [
    "model.compile(loss='mean_squared_logarithmic_error', optimizer='adam', metrics=['mse'])"
   ]
  },
  {
   "cell_type": "code",
   "execution_count": 83,
   "id": "ddf37038",
   "metadata": {},
   "outputs": [
    {
     "name": "stdout",
     "output_type": "stream",
     "text": [
      "Epoch 1/20\n",
      "5/5 [==============================] - 3s 93ms/step - loss: 0.0117 - mse: 0.0266 - val_loss: 0.0139 - val_mse: 0.0327\n",
      "Epoch 2/20\n",
      "5/5 [==============================] - 0s 27ms/step - loss: 0.0112 - mse: 0.0256 - val_loss: 0.0136 - val_mse: 0.0319\n",
      "Epoch 3/20\n",
      "5/5 [==============================] - 0s 22ms/step - loss: 0.0103 - mse: 0.0235 - val_loss: 0.0132 - val_mse: 0.0308\n",
      "Epoch 4/20\n",
      "5/5 [==============================] - 0s 27ms/step - loss: 0.0090 - mse: 0.0205 - val_loss: 0.0129 - val_mse: 0.0301\n",
      "Epoch 5/20\n",
      "5/5 [==============================] - 0s 26ms/step - loss: 0.0079 - mse: 0.0179 - val_loss: 0.0121 - val_mse: 0.0283\n",
      "Epoch 6/20\n",
      "5/5 [==============================] - 0s 26ms/step - loss: 0.0069 - mse: 0.0156 - val_loss: 0.0116 - val_mse: 0.0269\n",
      "Epoch 7/20\n",
      "5/5 [==============================] - 0s 24ms/step - loss: 0.0062 - mse: 0.0140 - val_loss: 0.0111 - val_mse: 0.0259\n",
      "Epoch 8/20\n",
      "5/5 [==============================] - 0s 27ms/step - loss: 0.0057 - mse: 0.0129 - val_loss: 0.0107 - val_mse: 0.0249\n",
      "Epoch 9/20\n",
      "5/5 [==============================] - 0s 25ms/step - loss: 0.0053 - mse: 0.0120 - val_loss: 0.0104 - val_mse: 0.0242\n",
      "Epoch 10/20\n",
      "5/5 [==============================] - 0s 27ms/step - loss: 0.0051 - mse: 0.0116 - val_loss: 0.0102 - val_mse: 0.0238\n",
      "Epoch 11/20\n",
      "5/5 [==============================] - 0s 25ms/step - loss: 0.0050 - mse: 0.0112 - val_loss: 0.0101 - val_mse: 0.0236\n",
      "Epoch 12/20\n",
      "5/5 [==============================] - 0s 27ms/step - loss: 0.0049 - mse: 0.0110 - val_loss: 0.0100 - val_mse: 0.0235\n",
      "Epoch 13/20\n",
      "5/5 [==============================] - 0s 25ms/step - loss: 0.0048 - mse: 0.0107 - val_loss: 0.0100 - val_mse: 0.0234\n",
      "Epoch 14/20\n",
      "5/5 [==============================] - 0s 21ms/step - loss: 0.0047 - mse: 0.0106 - val_loss: 0.0100 - val_mse: 0.0233\n",
      "Epoch 15/20\n",
      "5/5 [==============================] - 0s 29ms/step - loss: 0.0047 - mse: 0.0105 - val_loss: 0.0099 - val_mse: 0.0232\n",
      "Epoch 16/20\n",
      "5/5 [==============================] - 0s 27ms/step - loss: 0.0046 - mse: 0.0104 - val_loss: 0.0099 - val_mse: 0.0232\n",
      "Epoch 17/20\n",
      "5/5 [==============================] - 0s 25ms/step - loss: 0.0046 - mse: 0.0103 - val_loss: 0.0099 - val_mse: 0.0232\n",
      "Epoch 18/20\n",
      "5/5 [==============================] - 0s 24ms/step - loss: 0.0045 - mse: 0.0102 - val_loss: 0.0099 - val_mse: 0.0231\n",
      "Epoch 19/20\n",
      "5/5 [==============================] - 0s 21ms/step - loss: 0.0045 - mse: 0.0102 - val_loss: 0.0098 - val_mse: 0.0230\n",
      "Epoch 20/20\n",
      "5/5 [==============================] - 0s 25ms/step - loss: 0.0045 - mse: 0.0101 - val_loss: 0.0098 - val_mse: 0.0230\n"
     ]
    }
   ],
   "source": [
    "history = model.fit(\n",
    "\n",
    "x_train_scaled,\n",
    "x_train_scaled,\n",
    "epochs=20,\n",
    "batch_size=512,\n",
    "validation_data=(x_test_scaled, x_test_scaled)\n",
    "\n",
    ")"
   ]
  },
  {
   "cell_type": "code",
   "execution_count": 84,
   "id": "169683f6",
   "metadata": {},
   "outputs": [
    {
     "data": {
      "image/png": "[encoded data removed]",
      "text/plain": [
       "<Figure size 640x480 with 1 Axes>"
      ]
     },
     "metadata": {},
     "output_type": "display_data"
    }
   ],
   "source": [
    "plt.plot(history.history['loss'])\n",
    "plt.plot(history.history['val_loss'])\n",
    "plt.xlabel('Epochs')\n",
    "plt.ylabel('MSLE Loss')\n",
    "plt.legend(['loss', 'val_loss'])\n",
    "\n",
    "plt.show()"
   ]
  },
  {
   "cell_type": "code",
   "execution_count": 91,
   "id": "eea5e2da",
   "metadata": {},
   "outputs": [],
   "source": [
    "def find_threshold (model, x_train_scaled):\n",
    "\n",
    "    reconstructions = model.predict(x_train_scaled)\n",
    "\n",
    "# provides losses of individual instances\n",
    "\n",
    "    reconstruction_errors = tf.keras.losses.msle(reconstructions, x_train_scaled) # threshold for anomaly scores\n",
    "\n",
    "    threshold = np.mean (reconstruction_errors. numpy()) \\\n",
    "    + np.std(reconstruction_errors.numpy())\n",
    "\n",
    "    return threshold"
   ]
  },
  {
   "cell_type": "code",
   "execution_count": 92,
   "id": "13e588de",
   "metadata": {},
   "outputs": [],
   "source": [
    "def get_predictions (model, x_test_scaled, threshold): \n",
    "    predictions = model.predict(x_test_scaled) # provides losses of individual instances\n",
    "\n",
    "    errors = tf.keras.losses.msle (predictions, x_test_scaled) #0 anomaly, 1 = normal\n",
    "\n",
    "    anomaly_mask = pd. Series (errors) > threshold \n",
    "    preds = anomaly_mask.map(lambda x: 0.0 if x == True else 1.0) \n",
    "    return preds"
   ]
  },
  {
   "cell_type": "code",
   "execution_count": 94,
   "id": "abc7f5c8",
   "metadata": {},
   "outputs": [
    {
     "name": "stdout",
     "output_type": "stream",
     "text": [
      "73/73 [==============================] - 0s 3ms/step\n",
      "Threshold: 0.009596977182184937\n",
      "32/32 [==============================] - 0s 3ms/step\n"
     ]
    },
    {
     "data": {
      "text/plain": [
       "0.941"
      ]
     },
     "execution_count": 94,
     "metadata": {},
     "output_type": "execute_result"
    }
   ],
   "source": [
    "threshold = find_threshold (model, x_train_scaled) \n",
    "print (f\"Threshold: {threshold}\")\n",
    "\n",
    "predictions = get_predictions (model, x_test_scaled, threshold) \n",
    "accuracy_score (predictions, y_test)"
   ]
  },
  {
   "cell_type": "code",
   "execution_count": null,
   "id": "391fc312",
   "metadata": {},
   "outputs": [],
   "source": []
  }
 ],
 "metadata": {
  "kernelspec": {
   "display_name": "Python 3 (ipykernel)",
   "language": "python",
   "name": "python3"
  },
  "language_info": {
   "codemirror_mode": {
    "name": "ipython",
    "version": 3
   },
   "file_extension": ".py",
   "mimetype": "text/x-python",
   "name": "python",
   "nbconvert_exporter": "python",
   "pygments_lexer": "ipython3",
   "version": "3.11.5"
  }
 },
 "nbformat": 4,
 "nbformat_minor": 5
}
